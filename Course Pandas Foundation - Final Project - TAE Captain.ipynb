{
  "cells":[
    {
      "cell_type":"markdown",
      "source":[
        "# Project"
      ],
      "attachments":{
        
      },
      "metadata":{
        "datalore":{
          "sheet_delimiter":true
        }
      }
    },
    {
      "cell_type":"markdown",
      "source":[
        "# Final Project - Analyzing Sales Data\n",
        "\n",
        "**Date**: 30 December 2021\n",
        "\n",
        "**Author**: Khunphut Prakanrattana\n",
        "\n",
        "**Course**: `Pandas Foundation`"
      ],
      "attachments":{
        
      },
      "metadata":{
        "datalore":{
          "sheet_delimiter":false
        }
      }
    },
    {
      "cell_type":"code",
      "source":[
        "# import data\n",
        "import pandas as pd\n",
        "df = pd.read_csv(\"sample-store.csv\")"
      ],
      "execution_count":1,
      "outputs":[
        
      ],
      "metadata":{
        "datalore":{
          "sheet_delimiter":false
        }
      }
    },
    {
      "cell_type":"code",
      "source":[
        "# preview top 5 rows\n",
        "df.head()"
      ],
      "execution_count":130,
      "outputs":[
        {
          "data":{
            "text\/html":[
              "<div>\n",
              "<style scoped>\n",
              "    .dataframe tbody tr th:only-of-type {\n",
              "        vertical-align: middle;\n",
              "    }\n",
              "\n",
              "    .dataframe tbody tr th {\n",
              "        vertical-align: top;\n",
              "    }\n",
              "\n",
              "    .dataframe thead th {\n",
              "        text-align: right;\n",
              "    }\n",
              "<\/style>\n",
              "<table border=\"1\" class=\"dataframe\">\n",
              "  <thead>\n",
              "    <tr style=\"text-align: right;\">\n",
              "      <th><\/th>\n",
              "      <th>Row ID<\/th>\n",
              "      <th>Order ID<\/th>\n",
              "      <th>Order Date<\/th>\n",
              "      <th>Ship Date<\/th>\n",
              "      <th>Ship Mode<\/th>\n",
              "      <th>Customer ID<\/th>\n",
              "      <th>Customer Name<\/th>\n",
              "      <th>Segment<\/th>\n",
              "      <th>Country\/Region<\/th>\n",
              "      <th>City<\/th>\n",
              "      <th>...<\/th>\n",
              "      <th>Postal Code<\/th>\n",
              "      <th>Region<\/th>\n",
              "      <th>Product ID<\/th>\n",
              "      <th>Category<\/th>\n",
              "      <th>Sub-Category<\/th>\n",
              "      <th>Product Name<\/th>\n",
              "      <th>Sales<\/th>\n",
              "      <th>Quantity<\/th>\n",
              "      <th>Discount<\/th>\n",
              "      <th>Profit<\/th>\n",
              "    <\/tr>\n",
              "  <\/thead>\n",
              "  <tbody>\n",
              "    <tr>\n",
              "      <th>0<\/th>\n",
              "      <td>1<\/td>\n",
              "      <td>CA-2019-152156<\/td>\n",
              "      <td>2019-11-08<\/td>\n",
              "      <td>2019-11-11<\/td>\n",
              "      <td>Second Class<\/td>\n",
              "      <td>CG-12520<\/td>\n",
              "      <td>Claire Gute<\/td>\n",
              "      <td>Consumer<\/td>\n",
              "      <td>United States<\/td>\n",
              "      <td>Henderson<\/td>\n",
              "      <td>...<\/td>\n",
              "      <td>42420.0<\/td>\n",
              "      <td>South<\/td>\n",
              "      <td>FUR-BO-10001798<\/td>\n",
              "      <td>Furniture<\/td>\n",
              "      <td>Bookcases<\/td>\n",
              "      <td>Bush Somerset Collection Bookcase<\/td>\n",
              "      <td>261.9600<\/td>\n",
              "      <td>2<\/td>\n",
              "      <td>0.00<\/td>\n",
              "      <td>41.9136<\/td>\n",
              "    <\/tr>\n",
              "    <tr>\n",
              "      <th>1<\/th>\n",
              "      <td>2<\/td>\n",
              "      <td>CA-2019-152156<\/td>\n",
              "      <td>2019-11-08<\/td>\n",
              "      <td>2019-11-11<\/td>\n",
              "      <td>Second Class<\/td>\n",
              "      <td>CG-12520<\/td>\n",
              "      <td>Claire Gute<\/td>\n",
              "      <td>Consumer<\/td>\n",
              "      <td>United States<\/td>\n",
              "      <td>Henderson<\/td>\n",
              "      <td>...<\/td>\n",
              "      <td>42420.0<\/td>\n",
              "      <td>South<\/td>\n",
              "      <td>FUR-CH-10000454<\/td>\n",
              "      <td>Furniture<\/td>\n",
              "      <td>Chairs<\/td>\n",
              "      <td>Hon Deluxe Fabric Upholstered Stacking Chairs,...<\/td>\n",
              "      <td>731.9400<\/td>\n",
              "      <td>3<\/td>\n",
              "      <td>0.00<\/td>\n",
              "      <td>219.5820<\/td>\n",
              "    <\/tr>\n",
              "    <tr>\n",
              "      <th>2<\/th>\n",
              "      <td>3<\/td>\n",
              "      <td>CA-2019-138688<\/td>\n",
              "      <td>2019-06-12<\/td>\n",
              "      <td>2019-06-16<\/td>\n",
              "      <td>Second Class<\/td>\n",
              "      <td>DV-13045<\/td>\n",
              "      <td>Darrin Van Huff<\/td>\n",
              "      <td>Corporate<\/td>\n",
              "      <td>United States<\/td>\n",
              "      <td>Los Angeles<\/td>\n",
              "      <td>...<\/td>\n",
              "      <td>90036.0<\/td>\n",
              "      <td>West<\/td>\n",
              "      <td>OFF-LA-10000240<\/td>\n",
              "      <td>Office Supplies<\/td>\n",
              "      <td>Labels<\/td>\n",
              "      <td>Self-Adhesive Address Labels for Typewriters b...<\/td>\n",
              "      <td>14.6200<\/td>\n",
              "      <td>2<\/td>\n",
              "      <td>0.00<\/td>\n",
              "      <td>6.8714<\/td>\n",
              "    <\/tr>\n",
              "    <tr>\n",
              "      <th>3<\/th>\n",
              "      <td>4<\/td>\n",
              "      <td>US-2018-108966<\/td>\n",
              "      <td>2018-10-11<\/td>\n",
              "      <td>2018-10-18<\/td>\n",
              "      <td>Standard Class<\/td>\n",
              "      <td>SO-20335<\/td>\n",
              "      <td>Sean O'Donnell<\/td>\n",
              "      <td>Consumer<\/td>\n",
              "      <td>United States<\/td>\n",
              "      <td>Fort Lauderdale<\/td>\n",
              "      <td>...<\/td>\n",
              "      <td>33311.0<\/td>\n",
              "      <td>South<\/td>\n",
              "      <td>FUR-TA-10000577<\/td>\n",
              "      <td>Furniture<\/td>\n",
              "      <td>Tables<\/td>\n",
              "      <td>Bretford CR4500 Series Slim Rectangular Table<\/td>\n",
              "      <td>957.5775<\/td>\n",
              "      <td>5<\/td>\n",
              "      <td>0.45<\/td>\n",
              "      <td>-383.0310<\/td>\n",
              "    <\/tr>\n",
              "    <tr>\n",
              "      <th>4<\/th>\n",
              "      <td>5<\/td>\n",
              "      <td>US-2018-108966<\/td>\n",
              "      <td>2018-10-11<\/td>\n",
              "      <td>2018-10-18<\/td>\n",
              "      <td>Standard Class<\/td>\n",
              "      <td>SO-20335<\/td>\n",
              "      <td>Sean O'Donnell<\/td>\n",
              "      <td>Consumer<\/td>\n",
              "      <td>United States<\/td>\n",
              "      <td>Fort Lauderdale<\/td>\n",
              "      <td>...<\/td>\n",
              "      <td>33311.0<\/td>\n",
              "      <td>South<\/td>\n",
              "      <td>OFF-ST-10000760<\/td>\n",
              "      <td>Office Supplies<\/td>\n",
              "      <td>Storage<\/td>\n",
              "      <td>Eldon Fold 'N Roll Cart System<\/td>\n",
              "      <td>22.3680<\/td>\n",
              "      <td>2<\/td>\n",
              "      <td>0.20<\/td>\n",
              "      <td>2.5164<\/td>\n",
              "    <\/tr>\n",
              "  <\/tbody>\n",
              "<\/table>\n",
              "<p>5 rows × 21 columns<\/p>\n",
              "<\/div>"
            ]
          },
          "metadata":{
            
          },
          "output_type":"display_data"
        }
      ],
      "metadata":{
        "datalore":{
          "sheet_delimiter":false
        }
      }
    },
    {
      "cell_type":"code",
      "source":[
        "# shape of dataframe\n",
        "df.shape"
      ],
      "execution_count":3,
      "outputs":[
        {
          "data":{
            "text\/plain":[
              "(9994, 21)"
            ]
          },
          "metadata":{
            
          },
          "output_type":"display_data"
        }
      ],
      "metadata":{
        "datalore":{
          "sheet_delimiter":false
        }
      }
    },
    {
      "cell_type":"code",
      "source":[
        "# see data frame information using .info()\n",
        "df.info()"
      ],
      "execution_count":4,
      "outputs":[
        {
          "name":"stdout",
          "text":[
            "<class 'pandas.core.frame.DataFrame'>\n",
            "RangeIndex: 9994 entries, 0 to 9993\n",
            "Data columns (total 21 columns):\n",
            " #   Column          Non-Null Count  Dtype  \n",
            "---  ------          --------------  -----  \n",
            " 0   Row ID          9994 non-null   int64  \n",
            " 1   Order ID        9994 non-null   object \n",
            " 2   Order Date      9994 non-null   object \n",
            " 3   Ship Date       9994 non-null   object \n",
            " 4   Ship Mode       9994 non-null   object \n",
            " 5   Customer ID     9994 non-null   object \n",
            " 6   Customer Name   9994 non-null   object \n",
            " 7   Segment         9994 non-null   object \n",
            " 8   Country\/Region  9994 non-null   object \n",
            " 9   City            9994 non-null   object \n",
            " 10  State           9994 non-null   object \n",
            " 11  Postal Code     9983 non-null   float64\n",
            " 12  Region          9994 non-null   object \n",
            " 13  Product ID      9994 non-null   object \n",
            " 14  Category        9994 non-null   object \n",
            " 15  Sub-Category    9994 non-null   object \n",
            " 16  Product Name    9994 non-null   object \n",
            " 17  Sales           9994 non-null   float64\n",
            " 18  Quantity        9994 non-null   int64  \n",
            " 19  Discount        9994 non-null   float64\n",
            " 20  Profit          9994 non-null   float64\n",
            "dtypes: float64(4), int64(2), object(15)\n",
            "memory usage: 1.6+ MB\n"
          ],
          "output_type":"stream"
        }
      ],
      "metadata":{
        "datalore":{
          "sheet_delimiter":false
        }
      }
    },
    {
      "cell_type":"markdown",
      "source":[
        "We can use `pd.to_datetime()` function to convert columns 'Order Date' and 'Ship Date' to datetime."
      ],
      "attachments":{
        
      },
      "metadata":{
        "datalore":{
          "sheet_delimiter":false
        }
      }
    },
    {
      "cell_type":"code",
      "source":[
        "# example of pd.to_datetime() function\n",
        "pd.to_datetime(df['Order Date'].head(), format='%m\/%d\/%Y')"
      ],
      "execution_count":5,
      "outputs":[
        {
          "data":{
            "text\/html":[
              
            ]
          },
          "metadata":{
            
          },
          "output_type":"display_data"
        }
      ],
      "metadata":{
        "datalore":{
          "sheet_delimiter":false
        }
      }
    },
    {
      "cell_type":"code",
      "source":[
        "# TODO - convert order date and ship date to datetime in the original dataframe\n",
        "df['Order Date']=pd.to_datetime(df['Order Date'], format='%m\/%d\/%Y')\n",
        "df['Ship Date']=pd.to_datetime(df['Ship Date'], format='%m\/%d\/%Y')"
      ],
      "execution_count":14,
      "outputs":[
        
      ],
      "metadata":{
        "datalore":{
          "sheet_delimiter":false
        }
      }
    },
    {
      "cell_type":"code",
      "source":[
        "# TODO - count nan in postal code column\n",
        "df['Postal Code'].isna().sum()"
      ],
      "execution_count":24,
      "outputs":[
        {
          "data":{
            "text\/plain":[
              "11"
            ]
          },
          "metadata":{
            
          },
          "output_type":"display_data"
        }
      ],
      "metadata":{
        "datalore":{
          "sheet_delimiter":false
        }
      }
    },
    {
      "cell_type":"code",
      "source":[
        "# TODO - filter rows with missing values\n",
        "df[df['Postal Code'].isna()]"
      ],
      "execution_count":25,
      "outputs":[
        {
          "data":{
            "text\/html":[
              "<div>\n",
              "<style scoped>\n",
              "    .dataframe tbody tr th:only-of-type {\n",
              "        vertical-align: middle;\n",
              "    }\n",
              "\n",
              "    .dataframe tbody tr th {\n",
              "        vertical-align: top;\n",
              "    }\n",
              "\n",
              "    .dataframe thead th {\n",
              "        text-align: right;\n",
              "    }\n",
              "<\/style>\n",
              "<table border=\"1\" class=\"dataframe\">\n",
              "  <thead>\n",
              "    <tr style=\"text-align: right;\">\n",
              "      <th><\/th>\n",
              "      <th>Row ID<\/th>\n",
              "      <th>Order ID<\/th>\n",
              "      <th>Order Date<\/th>\n",
              "      <th>Ship Date<\/th>\n",
              "      <th>Ship Mode<\/th>\n",
              "      <th>Customer ID<\/th>\n",
              "      <th>Customer Name<\/th>\n",
              "      <th>Segment<\/th>\n",
              "      <th>Country\/Region<\/th>\n",
              "      <th>City<\/th>\n",
              "      <th>...<\/th>\n",
              "      <th>Postal Code<\/th>\n",
              "      <th>Region<\/th>\n",
              "      <th>Product ID<\/th>\n",
              "      <th>Category<\/th>\n",
              "      <th>Sub-Category<\/th>\n",
              "      <th>Product Name<\/th>\n",
              "      <th>Sales<\/th>\n",
              "      <th>Quantity<\/th>\n",
              "      <th>Discount<\/th>\n",
              "      <th>Profit<\/th>\n",
              "    <\/tr>\n",
              "  <\/thead>\n",
              "  <tbody>\n",
              "    <tr>\n",
              "      <th>2234<\/th>\n",
              "      <td>2235<\/td>\n",
              "      <td>CA-2020-104066<\/td>\n",
              "      <td>2020-12-05<\/td>\n",
              "      <td>2020-12-10<\/td>\n",
              "      <td>Standard Class<\/td>\n",
              "      <td>QJ-19255<\/td>\n",
              "      <td>Quincy Jones<\/td>\n",
              "      <td>Corporate<\/td>\n",
              "      <td>United States<\/td>\n",
              "      <td>Burlington<\/td>\n",
              "      <td>...<\/td>\n",
              "      <td>NaN<\/td>\n",
              "      <td>East<\/td>\n",
              "      <td>TEC-AC-10001013<\/td>\n",
              "      <td>Technology<\/td>\n",
              "      <td>Accessories<\/td>\n",
              "      <td>Logitech ClearChat Comfort\/USB Headset H390<\/td>\n",
              "      <td>205.03<\/td>\n",
              "      <td>7<\/td>\n",
              "      <td>0.0<\/td>\n",
              "      <td>67.6599<\/td>\n",
              "    <\/tr>\n",
              "    <tr>\n",
              "      <th>5274<\/th>\n",
              "      <td>5275<\/td>\n",
              "      <td>CA-2018-162887<\/td>\n",
              "      <td>2018-11-07<\/td>\n",
              "      <td>2018-11-09<\/td>\n",
              "      <td>Second Class<\/td>\n",
              "      <td>SV-20785<\/td>\n",
              "      <td>Stewart Visinsky<\/td>\n",
              "      <td>Consumer<\/td>\n",
              "      <td>United States<\/td>\n",
              "      <td>Burlington<\/td>\n",
              "      <td>...<\/td>\n",
              "      <td>NaN<\/td>\n",
              "      <td>East<\/td>\n",
              "      <td>FUR-CH-10000595<\/td>\n",
              "      <td>Furniture<\/td>\n",
              "      <td>Chairs<\/td>\n",
              "      <td>Safco Contoured Stacking Chairs<\/td>\n",
              "      <td>715.20<\/td>\n",
              "      <td>3<\/td>\n",
              "      <td>0.0<\/td>\n",
              "      <td>178.8000<\/td>\n",
              "    <\/tr>\n",
              "    <tr>\n",
              "      <th>8798<\/th>\n",
              "      <td>8799<\/td>\n",
              "      <td>US-2019-150140<\/td>\n",
              "      <td>2019-04-06<\/td>\n",
              "      <td>2019-04-10<\/td>\n",
              "      <td>Standard Class<\/td>\n",
              "      <td>VM-21685<\/td>\n",
              "      <td>Valerie Mitchum<\/td>\n",
              "      <td>Home Office<\/td>\n",
              "      <td>United States<\/td>\n",
              "      <td>Burlington<\/td>\n",
              "      <td>...<\/td>\n",
              "      <td>NaN<\/td>\n",
              "      <td>East<\/td>\n",
              "      <td>TEC-PH-10002555<\/td>\n",
              "      <td>Technology<\/td>\n",
              "      <td>Phones<\/td>\n",
              "      <td>Nortel Meridian M5316 Digital phone<\/td>\n",
              "      <td>1294.75<\/td>\n",
              "      <td>5<\/td>\n",
              "      <td>0.0<\/td>\n",
              "      <td>336.6350<\/td>\n",
              "    <\/tr>\n",
              "    <tr>\n",
              "      <th>9146<\/th>\n",
              "      <td>9147<\/td>\n",
              "      <td>US-2019-165505<\/td>\n",
              "      <td>2019-01-23<\/td>\n",
              "      <td>2019-01-27<\/td>\n",
              "      <td>Standard Class<\/td>\n",
              "      <td>CB-12535<\/td>\n",
              "      <td>Claudia Bergmann<\/td>\n",
              "      <td>Corporate<\/td>\n",
              "      <td>United States<\/td>\n",
              "      <td>Burlington<\/td>\n",
              "      <td>...<\/td>\n",
              "      <td>NaN<\/td>\n",
              "      <td>East<\/td>\n",
              "      <td>TEC-AC-10002926<\/td>\n",
              "      <td>Technology<\/td>\n",
              "      <td>Accessories<\/td>\n",
              "      <td>Logitech Wireless Marathon Mouse M705<\/td>\n",
              "      <td>99.98<\/td>\n",
              "      <td>2<\/td>\n",
              "      <td>0.0<\/td>\n",
              "      <td>42.9914<\/td>\n",
              "    <\/tr>\n",
              "    <tr>\n",
              "      <th>9147<\/th>\n",
              "      <td>9148<\/td>\n",
              "      <td>US-2019-165505<\/td>\n",
              "      <td>2019-01-23<\/td>\n",
              "      <td>2019-01-27<\/td>\n",
              "      <td>Standard Class<\/td>\n",
              "      <td>CB-12535<\/td>\n",
              "      <td>Claudia Bergmann<\/td>\n",
              "      <td>Corporate<\/td>\n",
              "      <td>United States<\/td>\n",
              "      <td>Burlington<\/td>\n",
              "      <td>...<\/td>\n",
              "      <td>NaN<\/td>\n",
              "      <td>East<\/td>\n",
              "      <td>OFF-AR-10003477<\/td>\n",
              "      <td>Office Supplies<\/td>\n",
              "      <td>Art<\/td>\n",
              "      <td>4009 Highlighters<\/td>\n",
              "      <td>8.04<\/td>\n",
              "      <td>6<\/td>\n",
              "      <td>0.0<\/td>\n",
              "      <td>2.7336<\/td>\n",
              "    <\/tr>\n",
              "    <tr>\n",
              "      <th>9148<\/th>\n",
              "      <td>9149<\/td>\n",
              "      <td>US-2019-165505<\/td>\n",
              "      <td>2019-01-23<\/td>\n",
              "      <td>2019-01-27<\/td>\n",
              "      <td>Standard Class<\/td>\n",
              "      <td>CB-12535<\/td>\n",
              "      <td>Claudia Bergmann<\/td>\n",
              "      <td>Corporate<\/td>\n",
              "      <td>United States<\/td>\n",
              "      <td>Burlington<\/td>\n",
              "      <td>...<\/td>\n",
              "      <td>NaN<\/td>\n",
              "      <td>East<\/td>\n",
              "      <td>OFF-ST-10001526<\/td>\n",
              "      <td>Office Supplies<\/td>\n",
              "      <td>Storage<\/td>\n",
              "      <td>Iceberg Mobile Mega Data\/Printer Cart<\/td>\n",
              "      <td>1564.29<\/td>\n",
              "      <td>13<\/td>\n",
              "      <td>0.0<\/td>\n",
              "      <td>406.7154<\/td>\n",
              "    <\/tr>\n",
              "    <tr>\n",
              "      <th>9386<\/th>\n",
              "      <td>9387<\/td>\n",
              "      <td>US-2020-127292<\/td>\n",
              "      <td>2020-01-19<\/td>\n",
              "      <td>2020-01-23<\/td>\n",
              "      <td>Standard Class<\/td>\n",
              "      <td>RM-19375<\/td>\n",
              "      <td>Raymond Messe<\/td>\n",
              "      <td>Consumer<\/td>\n",
              "      <td>United States<\/td>\n",
              "      <td>Burlington<\/td>\n",
              "      <td>...<\/td>\n",
              "      <td>NaN<\/td>\n",
              "      <td>East<\/td>\n",
              "      <td>OFF-PA-10000157<\/td>\n",
              "      <td>Office Supplies<\/td>\n",
              "      <td>Paper<\/td>\n",
              "      <td>Xerox 191<\/td>\n",
              "      <td>79.92<\/td>\n",
              "      <td>4<\/td>\n",
              "      <td>0.0<\/td>\n",
              "      <td>37.5624<\/td>\n",
              "    <\/tr>\n",
              "    <tr>\n",
              "      <th>9387<\/th>\n",
              "      <td>9388<\/td>\n",
              "      <td>US-2020-127292<\/td>\n",
              "      <td>2020-01-19<\/td>\n",
              "      <td>2020-01-23<\/td>\n",
              "      <td>Standard Class<\/td>\n",
              "      <td>RM-19375<\/td>\n",
              "      <td>Raymond Messe<\/td>\n",
              "      <td>Consumer<\/td>\n",
              "      <td>United States<\/td>\n",
              "      <td>Burlington<\/td>\n",
              "      <td>...<\/td>\n",
              "      <td>NaN<\/td>\n",
              "      <td>East<\/td>\n",
              "      <td>OFF-PA-10001970<\/td>\n",
              "      <td>Office Supplies<\/td>\n",
              "      <td>Paper<\/td>\n",
              "      <td>Xerox 1881<\/td>\n",
              "      <td>12.28<\/td>\n",
              "      <td>1<\/td>\n",
              "      <td>0.0<\/td>\n",
              "      <td>5.7716<\/td>\n",
              "    <\/tr>\n",
              "    <tr>\n",
              "      <th>9388<\/th>\n",
              "      <td>9389<\/td>\n",
              "      <td>US-2020-127292<\/td>\n",
              "      <td>2020-01-19<\/td>\n",
              "      <td>2020-01-23<\/td>\n",
              "      <td>Standard Class<\/td>\n",
              "      <td>RM-19375<\/td>\n",
              "      <td>Raymond Messe<\/td>\n",
              "      <td>Consumer<\/td>\n",
              "      <td>United States<\/td>\n",
              "      <td>Burlington<\/td>\n",
              "      <td>...<\/td>\n",
              "      <td>NaN<\/td>\n",
              "      <td>East<\/td>\n",
              "      <td>OFF-AP-10000828<\/td>\n",
              "      <td>Office Supplies<\/td>\n",
              "      <td>Appliances<\/td>\n",
              "      <td>Avanti 4.4 Cu. Ft. Refrigerator<\/td>\n",
              "      <td>542.94<\/td>\n",
              "      <td>3<\/td>\n",
              "      <td>0.0<\/td>\n",
              "      <td>152.0232<\/td>\n",
              "    <\/tr>\n",
              "    <tr>\n",
              "      <th>9389<\/th>\n",
              "      <td>9390<\/td>\n",
              "      <td>US-2020-127292<\/td>\n",
              "      <td>2020-01-19<\/td>\n",
              "      <td>2020-01-23<\/td>\n",
              "      <td>Standard Class<\/td>\n",
              "      <td>RM-19375<\/td>\n",
              "      <td>Raymond Messe<\/td>\n",
              "      <td>Consumer<\/td>\n",
              "      <td>United States<\/td>\n",
              "      <td>Burlington<\/td>\n",
              "      <td>...<\/td>\n",
              "      <td>NaN<\/td>\n",
              "      <td>East<\/td>\n",
              "      <td>OFF-EN-10001509<\/td>\n",
              "      <td>Office Supplies<\/td>\n",
              "      <td>Envelopes<\/td>\n",
              "      <td>Poly String Tie Envelopes<\/td>\n",
              "      <td>2.04<\/td>\n",
              "      <td>1<\/td>\n",
              "      <td>0.0<\/td>\n",
              "      <td>0.9588<\/td>\n",
              "    <\/tr>\n",
              "    <tr>\n",
              "      <th>9741<\/th>\n",
              "      <td>9742<\/td>\n",
              "      <td>CA-2018-117086<\/td>\n",
              "      <td>2018-11-08<\/td>\n",
              "      <td>2018-11-12<\/td>\n",
              "      <td>Standard Class<\/td>\n",
              "      <td>QJ-19255<\/td>\n",
              "      <td>Quincy Jones<\/td>\n",
              "      <td>Corporate<\/td>\n",
              "      <td>United States<\/td>\n",
              "      <td>Burlington<\/td>\n",
              "      <td>...<\/td>\n",
              "      <td>NaN<\/td>\n",
              "      <td>East<\/td>\n",
              "      <td>FUR-BO-10004834<\/td>\n",
              "      <td>Furniture<\/td>\n",
              "      <td>Bookcases<\/td>\n",
              "      <td>Riverside Palais Royal Lawyers Bookcase, Royal...<\/td>\n",
              "      <td>4404.90<\/td>\n",
              "      <td>5<\/td>\n",
              "      <td>0.0<\/td>\n",
              "      <td>1013.1270<\/td>\n",
              "    <\/tr>\n",
              "  <\/tbody>\n",
              "<\/table>\n",
              "<p>11 rows × 21 columns<\/p>\n",
              "<\/div>"
            ]
          },
          "metadata":{
            
          },
          "output_type":"display_data"
        }
      ],
      "metadata":{
        "datalore":{
          "sheet_delimiter":false
        }
      }
    },
    {
      "cell_type":"code",
      "source":[
        "# TODO - Explore this dataset on your owns, ask your own questions\n",
        "df.describe()"
      ],
      "execution_count":26,
      "outputs":[
        {
          "data":{
            "text\/html":[
              "<div>\n",
              "<style scoped>\n",
              "    .dataframe tbody tr th:only-of-type {\n",
              "        vertical-align: middle;\n",
              "    }\n",
              "\n",
              "    .dataframe tbody tr th {\n",
              "        vertical-align: top;\n",
              "    }\n",
              "\n",
              "    .dataframe thead th {\n",
              "        text-align: right;\n",
              "    }\n",
              "<\/style>\n",
              "<table border=\"1\" class=\"dataframe\">\n",
              "  <thead>\n",
              "    <tr style=\"text-align: right;\">\n",
              "      <th><\/th>\n",
              "      <th>Row ID<\/th>\n",
              "      <th>Postal Code<\/th>\n",
              "      <th>Sales<\/th>\n",
              "      <th>Quantity<\/th>\n",
              "      <th>Discount<\/th>\n",
              "      <th>Profit<\/th>\n",
              "    <\/tr>\n",
              "  <\/thead>\n",
              "  <tbody>\n",
              "    <tr>\n",
              "      <th>count<\/th>\n",
              "      <td>9994.000000<\/td>\n",
              "      <td>9983.000000<\/td>\n",
              "      <td>9994.000000<\/td>\n",
              "      <td>9994.000000<\/td>\n",
              "      <td>9994.000000<\/td>\n",
              "      <td>9994.000000<\/td>\n",
              "    <\/tr>\n",
              "    <tr>\n",
              "      <th>mean<\/th>\n",
              "      <td>4997.500000<\/td>\n",
              "      <td>55245.233297<\/td>\n",
              "      <td>229.858001<\/td>\n",
              "      <td>3.789574<\/td>\n",
              "      <td>0.156203<\/td>\n",
              "      <td>28.656896<\/td>\n",
              "    <\/tr>\n",
              "    <tr>\n",
              "      <th>std<\/th>\n",
              "      <td>2885.163629<\/td>\n",
              "      <td>32038.715955<\/td>\n",
              "      <td>623.245101<\/td>\n",
              "      <td>2.225110<\/td>\n",
              "      <td>0.206452<\/td>\n",
              "      <td>234.260108<\/td>\n",
              "    <\/tr>\n",
              "    <tr>\n",
              "      <th>min<\/th>\n",
              "      <td>1.000000<\/td>\n",
              "      <td>1040.000000<\/td>\n",
              "      <td>0.444000<\/td>\n",
              "      <td>1.000000<\/td>\n",
              "      <td>0.000000<\/td>\n",
              "      <td>-6599.978000<\/td>\n",
              "    <\/tr>\n",
              "    <tr>\n",
              "      <th>25%<\/th>\n",
              "      <td>2499.250000<\/td>\n",
              "      <td>23223.000000<\/td>\n",
              "      <td>17.280000<\/td>\n",
              "      <td>2.000000<\/td>\n",
              "      <td>0.000000<\/td>\n",
              "      <td>1.728750<\/td>\n",
              "    <\/tr>\n",
              "    <tr>\n",
              "      <th>50%<\/th>\n",
              "      <td>4997.500000<\/td>\n",
              "      <td>57103.000000<\/td>\n",
              "      <td>54.490000<\/td>\n",
              "      <td>3.000000<\/td>\n",
              "      <td>0.200000<\/td>\n",
              "      <td>8.666500<\/td>\n",
              "    <\/tr>\n",
              "    <tr>\n",
              "      <th>75%<\/th>\n",
              "      <td>7495.750000<\/td>\n",
              "      <td>90008.000000<\/td>\n",
              "      <td>209.940000<\/td>\n",
              "      <td>5.000000<\/td>\n",
              "      <td>0.200000<\/td>\n",
              "      <td>29.364000<\/td>\n",
              "    <\/tr>\n",
              "    <tr>\n",
              "      <th>max<\/th>\n",
              "      <td>9994.000000<\/td>\n",
              "      <td>99301.000000<\/td>\n",
              "      <td>22638.480000<\/td>\n",
              "      <td>14.000000<\/td>\n",
              "      <td>0.800000<\/td>\n",
              "      <td>8399.976000<\/td>\n",
              "    <\/tr>\n",
              "  <\/tbody>\n",
              "<\/table>\n",
              "<\/div>"
            ]
          },
          "metadata":{
            
          },
          "output_type":"display_data"
        }
      ],
      "metadata":{
        "datalore":{
          "sheet_delimiter":false
        }
      }
    },
    {
      "cell_type":"markdown",
      "source":[
        "## Data Analysis Part\n",
        "\n",
        "Answer 10 below questions to get credit from this course. Write `pandas` code to find answers."
      ],
      "attachments":{
        
      },
      "metadata":{
        "datalore":{
          "sheet_delimiter":false
        }
      }
    },
    {
      "cell_type":"code",
      "source":[
        "# TODO 01 - how many columns, rows in this dataset\n",
        "columns = df.shape[1]\n",
        "rows = df.shape[0]\n",
        "print(f\"colums = {columns} and rows = {rows}\")"
      ],
      "execution_count":32,
      "outputs":[
        {
          "name":"stdout",
          "text":[
            "colums = 21 and rows = 9994\n"
          ],
          "output_type":"stream"
        }
      ],
      "metadata":{
        "datalore":{
          "sheet_delimiter":false
        }
      }
    },
    {
      "cell_type":"code",
      "source":[
        "# TODO 02 - is there any missing values?, if there is, which colunm? how many nan values?\n",
        "miss=df.isna().sum()[df.isna().sum()!=0]\n",
        "print(miss)"
      ],
      "execution_count":48,
      "outputs":[
        {
          "name":"stdout",
          "text":[
            "Postal Code    11\n",
            "dtype: int64\n"
          ],
          "output_type":"stream"
        }
      ],
      "metadata":{
        "datalore":{
          "sheet_delimiter":false
        }
      }
    },
    {
      "cell_type":"code",
      "source":[
        "# TODO 03 - your friend ask for `California` data, filter it and export csv for him\n",
        "ca=df[df['State']=='California']\n",
        "ca.to_csv('California.csv')"
      ],
      "execution_count":60,
      "outputs":[
        
      ],
      "metadata":{
        "datalore":{
          "sheet_delimiter":false
        }
      }
    },
    {
      "cell_type":"code",
      "source":[
        "# TODO 04 - your friend ask for all order data in `California` and `Texas` in 2017 (look at Order Date), send him csv file\n",
        "ta=df[((df['State']=='California') | (df['State']=='Texas')) & (pd.DatetimeIndex(df['Order Date']).year==2017)]\n",
        "ta.to_csv('California_Texas_in2017.csv')"
      ],
      "execution_count":75,
      "outputs":[
        
      ],
      "metadata":{
        "datalore":{
          "sheet_delimiter":false
        }
      }
    },
    {
      "cell_type":"code",
      "source":[
        "# TODO 05 - how much total sales, average sales, and standard deviation of sales your company make in 2017\n",
        "AG=df[pd.DatetimeIndex(df['Order Date']).year==2017]\n",
        "S1=AG['Sales'].sum()\n",
        "S2=AG['Sales'].mean()\n",
        "S3=AG['Sales'].std()\n",
        "print(f'total sales= {S1} , average sales= {S2} and standard deviation of sales = {S3}')"
      ],
      "execution_count":95,
      "outputs":[
        {
          "name":"stdout",
          "text":[
            "total sales= 484247.4981 , average sales= 242.97415860511836 and standard deviation of sales = 754.0533572593688\n"
          ],
          "output_type":"stream"
        }
      ],
      "metadata":{
        "datalore":{
          "sheet_delimiter":false
        }
      }
    },
    {
      "cell_type":"code",
      "source":[
        "# TODO 06 - which Segment has the highest profit in 2018\n",
        "SE=df[pd.DatetimeIndex(df['Order Date']).year==2018]\n",
        "SES=SE.groupby(['Segment'])['Profit'].agg('sum').sort_values(ascending=False)\n",
        "Segment=SES.index[0]\n",
        "Profit=SES[0]\n",
        "print(f'Segment {Segment} has the highest profit in 2018 = {Profit}')"
      ],
      "execution_count":128,
      "outputs":[
        {
          "name":"stdout",
          "text":[
            "Segment Consumer has the highest profit in 2018 = 28460.1665\n"
          ],
          "output_type":"stream"
        }
      ],
      "metadata":{
        "datalore":{
          "sheet_delimiter":false
        }
      }
    },
    {
      "cell_type":"code",
      "source":[
        "# TODO 07 - which top 5 States have the least total sales between 15 April 2019 - 31 December 2019\n",
        "SA=df[(df['Order Date'] >= '2019-4-15') & (df['Order Date'] <= '2019-12-31')]\n",
        "SA.groupby(['State'])['Sales'].sum().sort_values(ascending=False).head(5)"
      ],
      "execution_count":147,
      "outputs":[
        {
          "data":{
            "text\/html":[
              
            ]
          },
          "metadata":{
            
          },
          "output_type":"display_data"
        }
      ],
      "metadata":{
        "datalore":{
          "sheet_delimiter":false
        }
      }
    },
    {
      "cell_type":"code",
      "source":[
        "# TODO 08 - what is the proportion of total sales (%) in West + Central in 2019 e.g. 25% \n",
        "total=df['Sales'].sum()\n",
        "wc=df[((df['Region']=='West') | (df['Region']=='Central')) & (pd.DatetimeIndex(df['Order Date']).year==2019)]['Sales'].sum()\n",
        "pop=wc\/total*100\n",
        "print(f'proportion of total sales (%) in West + Central in 2019 = {pop} %')"
      ],
      "execution_count":161,
      "outputs":[
        {
          "name":"stdout",
          "text":[
            "proportion of total sales (%) in West + Central in 2019 = 14.579027819807749 %\n"
          ],
          "output_type":"stream"
        }
      ],
      "metadata":{
        "datalore":{
          "sheet_delimiter":false
        }
      }
    },
    {
      "cell_type":"code",
      "source":[
        "# TODO 09 - find top 10 popular products in terms of number of orders vs. total sales during 2019-2020\n",
        "po=df[(pd.DatetimeIndex(df['Order Date']).year==2019) | (pd.DatetimeIndex(df['Order Date']).year==2020)]\\\n",
        "    [['Product Name','Sales','Quantity']]\n",
        "pog=po.groupby(['Product Name']).sum()\n",
        "sale=pog.sort_values('Sales',ascending=False).head(10)\n",
        "quantity=pog.sort_values('Quantity',ascending=False).head(10)\n",
        "print('top 10 popular products in number of orders = ',quantity.index.tolist(),'\\n'\\\n",
        "    ,'top 10 popular products in total sales = ',sale.index.tolist())"
      ],
      "execution_count":186,
      "outputs":[
        {
          "name":"stdout",
          "text":[
            "top 10 popular products in number of orders =  ['Staples', 'Easy-staple paper', 'Staple envelope', 'Staples in misc. colors', 'Chromcraft Round Conference Tables', 'Storex Dura Pro Binders', 'Situations Contoured Folding Chairs, 4\/Set', 'Wilson Jones Clip & Carry Folder Binder Tool for Ring Binders, Clear', 'Avery Non-Stick Binders', 'Eldon Wave Desk Accessories'] \n",
            " top 10 popular products in total sales =  ['Canon imageCLASS 2200 Advanced Copier', 'Hewlett Packard LaserJet 3310 Copier', '3D Systems Cube Printer, 2nd Generation, Magenta', 'GBC Ibimaster 500 Manual ProClick Binding System', 'GBC DocuBind TL300 Electric Binding System', 'GBC DocuBind P400 Electric Binding System', 'Samsung Galaxy Mega 6.3', 'HON 5400 Series Task Chairs for Big and Tall', 'Martin Yale Chadless Opener Electric Letter Opener', 'Global Troy Executive Leather Low-Back Tilter']\n"
          ],
          "output_type":"stream"
        }
      ],
      "metadata":{
        "datalore":{
          "sheet_delimiter":false
        }
      }
    },
    {
      "cell_type":"code",
      "source":[
        "# TODO 10 - plot at least 2 plots, any plot you think interesting :)\n",
        "df['Category'].value_counts().plot(kind='pie')"
      ],
      "execution_count":200,
      "outputs":[
        {
          "data":{
            "text\/plain":[
              "<AxesSubplot:ylabel='Category'>"
            ],
            "image\/png":"[encoded data removed]"
          },
          "metadata":{
            "image\/png":{
              
            }
          },
          "output_type":"display_data"
        }
      ],
      "metadata":{
        "datalore":{
          "sheet_delimiter":false
        }
      }
    },
    {
      "cell_type":"code",
      "source":[
        "df['year']=pd.DatetimeIndex(df['Order Date']).year\n",
        "df.groupby(['year'])['Sales'].sum().plot.line(color='red')"
      ],
      "execution_count":233,
      "outputs":[
        {
          "data":{
            "text\/plain":[
              "<AxesSubplot:xlabel='year'>"
            ],
            "image\/png":"[encoded data removed]"
          },
          "metadata":{
            "image\/png":{
              
            }
          },
          "output_type":"display_data"
        }
      ],
      "metadata":{
        "datalore":{
          "sheet_delimiter":false
        }
      }
    },
    {
      "cell_type":"code",
      "source":[
        "# TODO Bonus - use np.where() to create new column in dataframe to help you answer your own questions\n",
        "import numpy as np\n",
        "df['new_columns']=np.where(df['Profit']>=0,'profit','loss')\n",
        "df.head()"
      ],
      "execution_count":239,
      "outputs":[
        {
          "data":{
            "text\/html":[
              "<div>\n",
              "<style scoped>\n",
              "    .dataframe tbody tr th:only-of-type {\n",
              "        vertical-align: middle;\n",
              "    }\n",
              "\n",
              "    .dataframe tbody tr th {\n",
              "        vertical-align: top;\n",
              "    }\n",
              "\n",
              "    .dataframe thead th {\n",
              "        text-align: right;\n",
              "    }\n",
              "<\/style>\n",
              "<table border=\"1\" class=\"dataframe\">\n",
              "  <thead>\n",
              "    <tr style=\"text-align: right;\">\n",
              "      <th><\/th>\n",
              "      <th>Row ID<\/th>\n",
              "      <th>Order ID<\/th>\n",
              "      <th>Order Date<\/th>\n",
              "      <th>Ship Date<\/th>\n",
              "      <th>Ship Mode<\/th>\n",
              "      <th>Customer ID<\/th>\n",
              "      <th>Customer Name<\/th>\n",
              "      <th>Segment<\/th>\n",
              "      <th>Country\/Region<\/th>\n",
              "      <th>City<\/th>\n",
              "      <th>...<\/th>\n",
              "      <th>Product ID<\/th>\n",
              "      <th>Category<\/th>\n",
              "      <th>Sub-Category<\/th>\n",
              "      <th>Product Name<\/th>\n",
              "      <th>Sales<\/th>\n",
              "      <th>Quantity<\/th>\n",
              "      <th>Discount<\/th>\n",
              "      <th>Profit<\/th>\n",
              "      <th>year<\/th>\n",
              "      <th>new_columns<\/th>\n",
              "    <\/tr>\n",
              "  <\/thead>\n",
              "  <tbody>\n",
              "    <tr>\n",
              "      <th>0<\/th>\n",
              "      <td>1<\/td>\n",
              "      <td>CA-2019-152156<\/td>\n",
              "      <td>2019-11-08<\/td>\n",
              "      <td>2019-11-11<\/td>\n",
              "      <td>Second Class<\/td>\n",
              "      <td>CG-12520<\/td>\n",
              "      <td>Claire Gute<\/td>\n",
              "      <td>Consumer<\/td>\n",
              "      <td>United States<\/td>\n",
              "      <td>Henderson<\/td>\n",
              "      <td>...<\/td>\n",
              "      <td>FUR-BO-10001798<\/td>\n",
              "      <td>Furniture<\/td>\n",
              "      <td>Bookcases<\/td>\n",
              "      <td>Bush Somerset Collection Bookcase<\/td>\n",
              "      <td>261.9600<\/td>\n",
              "      <td>2<\/td>\n",
              "      <td>0.00<\/td>\n",
              "      <td>41.9136<\/td>\n",
              "      <td>2019<\/td>\n",
              "      <td>profit<\/td>\n",
              "    <\/tr>\n",
              "    <tr>\n",
              "      <th>1<\/th>\n",
              "      <td>2<\/td>\n",
              "      <td>CA-2019-152156<\/td>\n",
              "      <td>2019-11-08<\/td>\n",
              "      <td>2019-11-11<\/td>\n",
              "      <td>Second Class<\/td>\n",
              "      <td>CG-12520<\/td>\n",
              "      <td>Claire Gute<\/td>\n",
              "      <td>Consumer<\/td>\n",
              "      <td>United States<\/td>\n",
              "      <td>Henderson<\/td>\n",
              "      <td>...<\/td>\n",
              "      <td>FUR-CH-10000454<\/td>\n",
              "      <td>Furniture<\/td>\n",
              "      <td>Chairs<\/td>\n",
              "      <td>Hon Deluxe Fabric Upholstered Stacking Chairs,...<\/td>\n",
              "      <td>731.9400<\/td>\n",
              "      <td>3<\/td>\n",
              "      <td>0.00<\/td>\n",
              "      <td>219.5820<\/td>\n",
              "      <td>2019<\/td>\n",
              "      <td>profit<\/td>\n",
              "    <\/tr>\n",
              "    <tr>\n",
              "      <th>2<\/th>\n",
              "      <td>3<\/td>\n",
              "      <td>CA-2019-138688<\/td>\n",
              "      <td>2019-06-12<\/td>\n",
              "      <td>2019-06-16<\/td>\n",
              "      <td>Second Class<\/td>\n",
              "      <td>DV-13045<\/td>\n",
              "      <td>Darrin Van Huff<\/td>\n",
              "      <td>Corporate<\/td>\n",
              "      <td>United States<\/td>\n",
              "      <td>Los Angeles<\/td>\n",
              "      <td>...<\/td>\n",
              "      <td>OFF-LA-10000240<\/td>\n",
              "      <td>Office Supplies<\/td>\n",
              "      <td>Labels<\/td>\n",
              "      <td>Self-Adhesive Address Labels for Typewriters b...<\/td>\n",
              "      <td>14.6200<\/td>\n",
              "      <td>2<\/td>\n",
              "      <td>0.00<\/td>\n",
              "      <td>6.8714<\/td>\n",
              "      <td>2019<\/td>\n",
              "      <td>profit<\/td>\n",
              "    <\/tr>\n",
              "    <tr>\n",
              "      <th>3<\/th>\n",
              "      <td>4<\/td>\n",
              "      <td>US-2018-108966<\/td>\n",
              "      <td>2018-10-11<\/td>\n",
              "      <td>2018-10-18<\/td>\n",
              "      <td>Standard Class<\/td>\n",
              "      <td>SO-20335<\/td>\n",
              "      <td>Sean O'Donnell<\/td>\n",
              "      <td>Consumer<\/td>\n",
              "      <td>United States<\/td>\n",
              "      <td>Fort Lauderdale<\/td>\n",
              "      <td>...<\/td>\n",
              "      <td>FUR-TA-10000577<\/td>\n",
              "      <td>Furniture<\/td>\n",
              "      <td>Tables<\/td>\n",
              "      <td>Bretford CR4500 Series Slim Rectangular Table<\/td>\n",
              "      <td>957.5775<\/td>\n",
              "      <td>5<\/td>\n",
              "      <td>0.45<\/td>\n",
              "      <td>-383.0310<\/td>\n",
              "      <td>2018<\/td>\n",
              "      <td>loss<\/td>\n",
              "    <\/tr>\n",
              "    <tr>\n",
              "      <th>4<\/th>\n",
              "      <td>5<\/td>\n",
              "      <td>US-2018-108966<\/td>\n",
              "      <td>2018-10-11<\/td>\n",
              "      <td>2018-10-18<\/td>\n",
              "      <td>Standard Class<\/td>\n",
              "      <td>SO-20335<\/td>\n",
              "      <td>Sean O'Donnell<\/td>\n",
              "      <td>Consumer<\/td>\n",
              "      <td>United States<\/td>\n",
              "      <td>Fort Lauderdale<\/td>\n",
              "      <td>...<\/td>\n",
              "      <td>OFF-ST-10000760<\/td>\n",
              "      <td>Office Supplies<\/td>\n",
              "      <td>Storage<\/td>\n",
              "      <td>Eldon Fold 'N Roll Cart System<\/td>\n",
              "      <td>22.3680<\/td>\n",
              "      <td>2<\/td>\n",
              "      <td>0.20<\/td>\n",
              "      <td>2.5164<\/td>\n",
              "      <td>2018<\/td>\n",
              "      <td>profit<\/td>\n",
              "    <\/tr>\n",
              "  <\/tbody>\n",
              "<\/table>\n",
              "<p>5 rows × 23 columns<\/p>\n",
              "<\/div>"
            ]
          },
          "metadata":{
            
          },
          "output_type":"display_data"
        }
      ],
      "metadata":{
        "datalore":{
          "sheet_delimiter":false
        }
      }
    }
  ],
  "metadata":{
    
  },
  "nbformat":4,
  "nbformat_minor":0
}